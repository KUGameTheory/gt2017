{
 "cells": [
  {
   "cell_type": "markdown",
   "metadata": {},
   "source": [
    "In this notebook we have a lok at the equation\n",
    "\n",
    "$$\\rho^*=\\Phi\\left(\\sqrt{\\gamma}(\\rho^*-\\bar r)\\right)$$\n",
    "\n",
    "which determines the equilibrium cutoff $\\rho^*$. Recall that \n",
    "\n",
    "$$\\gamma = \\frac{1+\\beta}{\\beta(1+2\\beta)}.$$\n",
    "\n",
    "Parameters: \n",
    "- $\\beta$ is the precision of the private signal (which is distributed normally with variance $1/\\beta$ around r)\n",
    "- $\\bar r$ is the public signal  (which is distributed normally with variance $1$ around r)"
   ]
  },
  {
   "cell_type": "code",
   "execution_count": 2,
   "metadata": {
    "collapsed": false
   },
   "outputs": [
    {
     "name": "stdout",
     "output_type": "stream",
     "text": [
      "ρ* equals 0.14851\n"
     ]
    }
   ],
   "source": [
    "##load some packages to be used below\n",
    "using Distributions #package for probablity distributions\n",
    "using Roots #package to solve univariate equations\n",
    "\n",
    "##parameters\n",
    "beta0 = 0.5\n",
    "gamma0 = (1+beta0)/(beta0*(1+2beta0))\n",
    "rBar0 = 1.0\n",
    "\n",
    "##standard normal cumulative distribution function \n",
    "#(gives prob that θ is less than x if θ is standard normally distributed)\n",
    "normalCDF(x) = cdf(Normal(),x)\n",
    "\n",
    "##equation that defines ρ*\n",
    "#right hand side of the equation\n",
    "rhs(rho) = normalCDF(sqrt(gamma0)*(rho-rBar0))\n",
    "#function such that has ρ* as its zero: rhStarEquation(ρ*)=0\n",
    "rhoStarEquation(rho) = rho - rhs(rho)\n",
    "\n",
    "##solving for ρ*\n",
    "rhoStar = fzero(rhoStarEquation,0,1)\n",
    "println(\"ρ* equals \",round(rhoStar,5))"
   ]
  },
  {
   "cell_type": "markdown",
   "metadata": {},
   "source": [
    "In the following cell we get a graphical representation of the equation for a range of values of the parameters. The left hand side of the equation (i.e. $\\rho$) and the right hand side (i.e. ) ar plotted. At the intersection there is $\\rho^*$.\n",
    "\n",
    "Note that we need the assumption that $\\beta$ is sufficiently high to have a unique intersection (and therefore a unique rationalizable action). Below you can see that we get several intersections if $\\beta$ is very low (and $\\bar r\\approx 0.5$). You also see that the right hand side is getting flatter as $\\beta$ increases. In particular, it will have slope less than 1 everywhere if $\\beta$ is below $\\sim 0.17$. In this case, there can be only one intersection with the 45° line.\n",
    "\n",
    "(Some fun question you might ask yourself: Why does $\\rho^*$ not change in $\\beta$ if $\\bar r=0.5$ while it does for other values of $\\bar r$?)"
   ]
  },
  {
   "cell_type": "code",
   "execution_count": 3,
   "metadata": {
    "collapsed": false
   },
   "outputs": [
    {
     "data": {
      "text/html": [],
      "text/plain": [
       "Interact.Options{:SelectionSlider,Any}(5: \"input-3\" = 0.3 Any , \"beta\", 0.3, \"0.3\", 5, Interact.OptionDict(DataStructures.OrderedDict{Any,Any}(\"0.1\"=>0.1,\"0.15\"=>0.15,\"0.2\"=>0.2,\"0.25\"=>0.25,\"0.3\"=>0.3,\"0.35\"=>0.35,\"0.4\"=>0.4,\"0.45\"=>0.45,\"0.5\"=>0.5), Dict{Any,Any}(Pair{Any,Any}(0.4, \"0.4\"),Pair{Any,Any}(0.3, \"0.3\"),Pair{Any,Any}(0.15, \"0.15\"),Pair{Any,Any}(0.5, \"0.5\"),Pair{Any,Any}(0.2, \"0.2\"),Pair{Any,Any}(0.1, \"0.1\"),Pair{Any,Any}(0.45, \"0.45\"),Pair{Any,Any}(0.25, \"0.25\"),Pair{Any,Any}(0.35, \"0.35\"))), Any[], Any[], true, \"horizontal\")"
      ]
     },
     "metadata": {},
     "output_type": "display_data"
    },
    {
     "data": {
      "text/html": [],
      "text/plain": [
       "Interact.Options{:SelectionSlider,Any}(7: \"input-4\" = 0.5 Any , \"rBar\", 0.5, \"0.5\", 6, Interact.OptionDict(DataStructures.OrderedDict{Any,Any}(\"0.0\"=>0.0,\"0.1\"=>0.1,\"0.2\"=>0.2,\"0.3\"=>0.3,\"0.4\"=>0.4,\"0.5\"=>0.5,\"0.6\"=>0.6,\"0.7\"=>0.7,\"0.8\"=>0.8,\"0.9\"=>0.9…), Dict{Any,Any}(Pair{Any,Any}(0.6, \"0.6\"),Pair{Any,Any}(0.3, \"0.3\"),Pair{Any,Any}(0.7, \"0.7\"),Pair{Any,Any}(0.0, \"0.0\"),Pair{Any,Any}(0.2, \"0.2\"),Pair{Any,Any}(0.9, \"0.9\"),Pair{Any,Any}(0.8, \"0.8\"),Pair{Any,Any}(0.5, \"0.5\"),Pair{Any,Any}(0.1, \"0.1\"),Pair{Any,Any}(0.4, \"0.4\")…)), Any[], Any[], true, \"horizontal\")"
      ]
     },
     "metadata": {},
     "output_type": "display_data"
    },
    {
     "data": {
      "text/html": [
       "<img src=\"data:image/png;base64,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\" />"
      ]
     },
     "execution_count": 3,
     "metadata": {
      "comm_id": "2a93fea2-8e10-459a-b602-7ccfebcfae12",
      "reactive": true
     },
     "output_type": "execute_result"
    }
   ],
   "source": [
    "using Plots #package for making plots\n",
    "using Interact #package for making plots interactive\n",
    "using LaTeXStrings #package for LaTeX labels\n",
    "\n",
    "#rhs as above but as a function of the parameters as well\n",
    "function rhs(rho,beta,rBar)\n",
    "    gamma = (1+beta)/(beta*(1+2beta))\n",
    "    return normalCDF(sqrt(gamma)*(rho-rBar))\n",
    "end\n",
    "\n",
    "#use matplotlib as plotting backend\n",
    "Plots.pyplot()\n",
    "\n",
    "@manipulate for beta in 0.1:0.05:0.5, rBar in 0.0:0.1:1\n",
    "    xgrid = 0.0:0.1:1.0\n",
    "    ygrid1= rhs.(xgrid,beta,rBar)\n",
    "    ygrid2 = collect(xgrid)\n",
    "    plot([xgrid,xgrid],[ygrid1,ygrid2],xlim=(0,1),ylim=(0,1),label=[\"RHS\" \"LHS (45°)\" L\"\\rho^*\"]) #rho -> rhs(rho,beta,rBar)\n",
    "    xlabel!(L\"\\rho\")\n",
    "    rhoStar = fzero(rho -> rho-rhs(rho,beta,rBar),0,1)\n",
    "    scatter!([rhoStar],[rhoStar],marker=(5,0.7,:green),label=L\"\\rho^*\")\n",
    "end"
   ]
  },
  {
   "cell_type": "code",
   "execution_count": null,
   "metadata": {
    "collapsed": true
   },
   "outputs": [],
   "source": []
  }
 ],
 "metadata": {
  "kernelspec": {
   "display_name": "Julia 0.6.0",
   "language": "julia",
   "name": "julia-0.6"
  },
  "language_info": {
   "file_extension": ".jl",
   "mimetype": "application/julia",
   "name": "julia",
   "version": "0.6.0"
  },
  "widgets": {
   "state": {
    "044fe9d7-22ff-415d-a779-5687acb4a5d8": {
     "views": [
      {
       "cell_index": 1
      }
     ]
    },
    "06ce7ea6-0fb2-471f-8920-36b64db2ea8e": {
     "views": [
      {
       "cell_index": 1
      }
     ]
    },
    "0d2b25a6-a51d-4004-8fba-576868ba4fb2": {
     "views": [
      {
       "cell_index": 1
      }
     ]
    },
    "16dc0661-6db1-499a-b863-be449fd9986c": {
     "views": [
      {
       "cell_index": 1
      }
     ]
    },
    "18285549-7b57-4345-90e1-ff4eb8ab7117": {
     "views": [
      {
       "cell_index": 1
      }
     ]
    },
    "1881fa85-d6c8-4d79-8f11-a97571e0723b": {
     "views": [
      {
       "cell_index": 1
      }
     ]
    },
    "1a7ff038-3b74-4f10-bf28-8c5f6fc4ac38": {
     "views": [
      {
       "cell_index": 2
      }
     ]
    },
    "1e9644bb-53cd-497e-b269-816246a42fd1": {
     "views": [
      {
       "cell_index": 3
      }
     ]
    },
    "22f3fea7-27d2-4759-bcb5-7575d88db84d": {
     "views": [
      {
       "cell_index": 1
      }
     ]
    },
    "256bea73-e048-43cf-b7b6-2d96bfeb880e": {
     "views": [
      {
       "cell_index": 1
      }
     ]
    },
    "2afc97aa-509b-44fe-b91c-62476d84e871": {
     "views": [
      {
       "cell_index": 1
      }
     ]
    },
    "2e5d61d4-cb29-4e1c-812b-bd33b8839303": {
     "views": [
      {
       "cell_index": 2
      }
     ]
    },
    "384cf4e1-0e82-4044-893a-e2af775c99e0": {
     "views": [
      {
       "cell_index": 1
      }
     ]
    },
    "387d5746-893a-42c2-a896-daa237ec4908": {
     "views": [
      {
       "cell_index": 1
      }
     ]
    },
    "3bc554cc-7872-4cac-a5f1-2e55654221e8": {
     "views": [
      {
       "cell_index": 2
      }
     ]
    },
    "3de33084-2ce7-45ec-99f6-0ff93df14132": {
     "views": [
      {
       "cell_index": 1
      }
     ]
    },
    "3dfef56f-40db-4e9e-baea-bf86f2553d59": {
     "views": [
      {
       "cell_index": 1
      }
     ]
    },
    "452a1ab3-4e31-4a15-abca-a1e8c083beff": {
     "views": [
      {
       "cell_index": 2
      }
     ]
    },
    "505bf831-8879-4071-bd00-a6a168bee52b": {
     "views": [
      {
       "cell_index": 2
      }
     ]
    },
    "522d9da4-eea9-4832-b5b9-6ae95d540807": {
     "views": [
      {
       "cell_index": 1
      }
     ]
    },
    "55b79dfe-ad5e-4eed-96f9-a46fb7d23e62": {
     "views": [
      {
       "cell_index": 1
      }
     ]
    },
    "5fcdb106-bfd5-4ed5-bdcc-41975d324f32": {
     "views": [
      {
       "cell_index": 3
      }
     ]
    },
    "63536601-c704-44dc-9e0a-dc4d802c0201": {
     "views": [
      {
       "cell_index": 2
      }
     ]
    },
    "659047df-0d70-4440-9c99-52c02ab9ccf6": {
     "views": [
      {
       "cell_index": 2
      }
     ]
    },
    "68621020-feed-4bce-95d3-b71320f115b2": {
     "views": [
      {
       "cell_index": 1
      }
     ]
    },
    "6bf5bfdc-f959-4deb-8e5c-af9d38cb94d6": {
     "views": [
      {
       "cell_index": 2
      }
     ]
    },
    "6df75118-47c5-4f0f-9f1d-564b1da0a22f": {
     "views": [
      {
       "cell_index": 2
      }
     ]
    },
    "6e658669-8e22-4101-be21-466fd37d285d": {
     "views": [
      {
       "cell_index": 1
      }
     ]
    },
    "709b6298-da02-4c22-8e03-6f7d9a7abe9c": {
     "views": [
      {
       "cell_index": 1
      }
     ]
    },
    "72a47bd5-abba-4642-a56a-3a23ae0c8b37": {
     "views": [
      {
       "cell_index": 1
      }
     ]
    },
    "78e5b48e-2d42-4ce8-9331-09c03d12dd55": {
     "views": [
      {
       "cell_index": 2
      }
     ]
    },
    "79b68ee1-4cfc-4033-9713-5df8148b973d": {
     "views": [
      {
       "cell_index": 1
      }
     ]
    },
    "826e0add-9b3b-4202-a480-e4b281f86009": {
     "views": [
      {
       "cell_index": 2
      }
     ]
    },
    "83950cb3-c1c3-4cea-8eb4-8cf300a3d9b0": {
     "views": [
      {
       "cell_index": 1
      }
     ]
    },
    "884a5d25-a697-40b6-96d8-50ede719217f": {
     "views": [
      {
       "cell_index": 1
      }
     ]
    },
    "8eb4f816-20dc-4852-95b8-e33e2ba42075": {
     "views": [
      {
       "cell_index": 2
      }
     ]
    },
    "997f5311-85a4-4596-9e90-7d3052fc3011": {
     "views": [
      {
       "cell_index": 1
      }
     ]
    },
    "9eb39641-9cde-4e01-baf6-dbfeea0aa773": {
     "views": [
      {
       "cell_index": 1
      }
     ]
    },
    "a01fce2b-d6e9-4af6-b11d-63ee4fd9b2bc": {
     "views": [
      {
       "cell_index": 2
      }
     ]
    },
    "a7ef76b3-a2b5-4354-a1f9-e4979cabfcd6": {
     "views": [
      {
       "cell_index": 2
      }
     ]
    },
    "a87220c1-3d1c-4b14-8bff-661edfcd2566": {
     "views": [
      {
       "cell_index": 1
      }
     ]
    },
    "aaa06052-6f21-40d7-9bb1-cff026b5506a": {
     "views": [
      {
       "cell_index": 3
      }
     ]
    },
    "bb0e50fa-4da8-494d-af8a-e7a998768913": {
     "views": [
      {
       "cell_index": 1
      }
     ]
    },
    "c15411a7-fbc9-4a9d-904b-c26637270986": {
     "views": [
      {
       "cell_index": 1
      }
     ]
    },
    "c7b0acaf-36d3-46ce-87fe-91402d8e00a0": {
     "views": [
      {
       "cell_index": 2
      }
     ]
    },
    "d0cd346a-b504-4209-a9c6-f5d5b5fc374b": {
     "views": [
      {
       "cell_index": 1
      }
     ]
    },
    "db831677-cc68-4fe4-b76d-1f3b89b47993": {
     "views": [
      {
       "cell_index": 2
      }
     ]
    },
    "e183f552-2e66-4046-8337-aa720a64f518": {
     "views": [
      {
       "cell_index": 1
      }
     ]
    },
    "e330e4d6-12e2-4ed8-bf83-b70a636b57cc": {
     "views": [
      {
       "cell_index": 2
      }
     ]
    },
    "e57cb5ec-8dc6-421b-8a7a-4b19c2a6301b": {
     "views": [
      {
       "cell_index": 1
      }
     ]
    },
    "eb60d329-dc38-404c-a261-d94c6d65f1d8": {
     "views": [
      {
       "cell_index": 2
      }
     ]
    },
    "f0e3f7fd-6485-4140-8a11-18aed519f41b": {
     "views": [
      {
       "cell_index": 2
      }
     ]
    },
    "f3b8e179-ccc9-456e-9de1-5aeb433aacaf": {
     "views": [
      {
       "cell_index": 2
      }
     ]
    }
   },
   "version": "1.2.0"
  }
 },
 "nbformat": 4,
 "nbformat_minor": 2
}
